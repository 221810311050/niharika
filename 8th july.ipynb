{
 "cells": [
  {
   "cell_type": "code",
   "execution_count": 39,
   "metadata": {},
   "outputs": [
    {
     "name": "stdout",
     "output_type": "stream",
     "text": [
      "1 2 3 4 6 12 "
     ]
    }
   ],
   "source": [
    "# Find the factos of a given number\n",
    "# 12 -- > 1 2 3 4 5 6 12\n",
    "def factorsList(n):\n",
    "    for i in range(1,n+1):\n",
    "        if n % i == 0:\n",
    "            print(i,end=\" \")\n",
    "    return   \n",
    "factorsList(12)"
   ]
  },
  {
   "cell_type": "code",
   "execution_count": 24,
   "metadata": {},
   "outputs": [
    {
     "data": {
      "text/plain": [
       "True"
      ]
     },
     "execution_count": 24,
     "metadata": {},
     "output_type": "execute_result"
    }
   ],
   "source": [
    "# given number is prime or not\n",
    "def isPrime(n):\n",
    "    flag = True\n",
    "    for i in range(2,n//2+1):\n",
    "        if n % i == 0:\n",
    "            flag = False\n",
    "            return flag\n",
    "        return flag\n",
    "isPrime(11)"
   ]
  },
  {
   "cell_type": "code",
   "execution_count": 125,
   "metadata": {},
   "outputs": [
    {
     "data": {
      "text/plain": [
       "4"
      ]
     },
     "execution_count": 125,
     "metadata": {},
     "output_type": "execute_result"
    }
   ],
   "source": [
    "# function to fine prime numberas count from 1 to N\n",
    "#ex 10--->4(1,2,3,5,7)\n",
    "def Primecount(n):\n",
    "    cnt = 0\n",
    "    for a in range(2,n+1):\n",
    "        k = 0\n",
    "        for i in range(2,a//2+1):\n",
    "            if a % i == 0:\n",
    "                 k = k + 1\n",
    "        if(k<=0):\n",
    "            cnt = cnt + 1\n",
    "    return cnt\n",
    "Primecount(10)"
   ]
  },
  {
   "cell_type": "code",
   "execution_count": 54,
   "metadata": {},
   "outputs": [
    {
     "name": "stdout",
     "output_type": "stream",
     "text": [
      "Yes\n",
      "No\n"
     ]
    }
   ],
   "source": [
    "# Induvidual digit factorial sum is same as original number\n",
    "# Example :-\n",
    "# 145 -- Yes(5! + 4!+ 1! = 145)\n",
    "# 123 -- No(3! +2! +1! = 9)\n",
    "def factorial(n):\n",
    "    fact = 1\n",
    "    for i in range(2,n+1):\n",
    "        fact*= i\n",
    "    return fact\n",
    "def digitFactorialsum(n):\n",
    "    sum=0\n",
    "    buffer=n\n",
    "    while n!=0:\n",
    "        r=n% 10\n",
    "        sum+=factorial(r)\n",
    "        n=n// 10\n",
    "    if sum==buffer:\n",
    "        return \"Yes\"\n",
    "    else:\n",
    "        return \"No\"\n",
    "    return\n",
    "print(digitFactorialsum(145))\n",
    "print(digitFactorialsum(123))\n",
    "    "
   ]
  },
  {
   "cell_type": "code",
   "execution_count": 102,
   "metadata": {},
   "outputs": [
    {
     "data": {
      "text/plain": [
       "9"
      ]
     },
     "execution_count": 102,
     "metadata": {},
     "output_type": "execute_result"
    }
   ],
   "source": [
    "# Function to return count of palindrome number\n",
    "def isPalindrome(n):\n",
    "    rev=0\n",
    "    buffer=n\n",
    "    while n!=0:\n",
    "        r =n % 10\n",
    "        rev = rev * 10 +r\n",
    "        n=n // 10\n",
    "        if rev == buffer:\n",
    "            return True\n",
    "        else:\n",
    "            return False\n",
    "def countPalindrome(lb,ub):\n",
    "    cnt = 0\n",
    "    while lb != ub:\n",
    "        #Implement\n",
    "        if isPalindrome(lb) == True:\n",
    "            cnt = cnt + 1\n",
    "        lb = lb + 1\n",
    "    return cnt\n",
    "countPalindrome(1,10)"
   ]
  },
  {
   "cell_type": "code",
   "execution_count": 130,
   "metadata": {},
   "outputs": [
    {
     "name": "stdout",
     "output_type": "stream",
     "text": [
      "6 \n",
      "6 28 496 8128 \n"
     ]
    }
   ],
   "source": [
    "#function to generate perfect numbers\n",
    "def factorsList(n):\n",
    "    sum=0\n",
    "    for i in range(1,n//2+1):\n",
    "        if n % i == 0:\n",
    "            sum=sum+i\n",
    "    return sum\n",
    "def isPerfect(n):\n",
    "    if factorsList(n)==n:\n",
    "        return True\n",
    "    return False\n",
    "def generatePerfect(lb,ub):\n",
    "    for x in range(lb,ub+1):\n",
    "        if isPerfect(x):\n",
    "            print(x,end=\" \")\n",
    "    print()\n",
    "    return\n",
    "generatePerfect(1,10)\n",
    "generatePerfect(1,10000)"
   ]
  },
  {
   "cell_type": "markdown",
   "metadata": {},
   "source": [
    "### Programming in Python\n",
    "- strings\n",
    "- string slicing\n",
    "- Fundemental programming with strings in pythin"
   ]
  },
  {
   "cell_type": "code",
   "execution_count": 131,
   "metadata": {},
   "outputs": [
    {
     "name": "stdout",
     "output_type": "stream",
     "text": [
      "Python\n",
      "<class 'str'>\n"
     ]
    }
   ],
   "source": [
    "s1=\"Python\"\n",
    "print(s1)\n",
    "print(type(s1))"
   ]
  },
  {
   "cell_type": "code",
   "execution_count": 148,
   "metadata": {},
   "outputs": [
    {
     "name": "stdout",
     "output_type": "stream",
     "text": [
      "P\n",
      "y\n",
      "n\n",
      "n\n"
     ]
    }
   ],
   "source": [
    "s1='Python'\n",
    "print(s1[0]) # Access the first Charecter \n",
    "print(s1[1]) # Access the second charecter\n",
    "print(s1[5]) # Last Charecter\n",
    "print(s1[len(s1)-1]) # Access the last charecter"
   ]
  },
  {
   "cell_type": "code",
   "execution_count": 154,
   "metadata": {},
   "outputs": [
    {
     "name": "stdout",
     "output_type": "stream",
     "text": [
      "n\n",
      "o\n",
      "Py\n",
      "Py\n",
      "hon\n",
      "thon\n"
     ]
    }
   ],
   "source": [
    "print(s1[-1]) # Access the last charecter \n",
    "print(s1[-2]) # Another way to access the last second charecter\n",
    "print(s1[0:2]) # Access the first charecters\n",
    "print(s1[:2]) # Access the first chaecters\n",
    "print(s1[-3:]) # Last three charecters\n",
    "print(s1[2:]) # From second charecter to las charecter"
   ]
  },
  {
   "cell_type": "code",
   "execution_count": 161,
   "metadata": {},
   "outputs": [
    {
     "name": "stdout",
     "output_type": "stream",
     "text": [
      "ytho\n",
      "h\n",
      "nohtyP\n",
      "no\n",
      "Pto\n",
      "Ph\n",
      "nhy\n"
     ]
    }
   ],
   "source": [
    "print(s1[1:-1]) # printing of charecters except first an last\n",
    "print(s1[len(s1)//2]) # Middle of the string\n",
    "print(s1[-1::-1]) # reverse of the string\n",
    "print(s1[-1:-3:-1]) # Access the last two charecters in reverse order\n",
    "#Acces the alternate chaecters\n",
    "print(s1[::2])# two charecters\n",
    "print(s1[::3]) # Three charecters\n",
    "print(s1[::-2]) #from reverse order"
   ]
  },
  {
   "cell_type": "code",
   "execution_count": 164,
   "metadata": {},
   "outputs": [
    {
     "data": {
      "text/plain": [
       "'gnimmargorP'"
      ]
     },
     "execution_count": 164,
     "metadata": {},
     "output_type": "execute_result"
    }
   ],
   "source": [
    "def reversestring(str):\n",
    "    return str[-1::-1]\n",
    "reversestring(\"Programming\")"
   ]
  },
  {
   "cell_type": "code",
   "execution_count": 174,
   "metadata": {},
   "outputs": [
    {
     "name": "stdout",
     "output_type": "stream",
     "text": [
      "False\n",
      "True\n"
     ]
    }
   ],
   "source": [
    "def isPalindrome(str):\n",
    "    if str == str[::-1]:\n",
    "        return True\n",
    "    else:\n",
    "        return False\n",
    "    return\n",
    "print(isPalindrome(\"Python\"))\n",
    "print(isPalindrome('ganag'))"
   ]
  },
  {
   "cell_type": "code",
   "execution_count": 183,
   "metadata": {},
   "outputs": [
    {
     "name": "stdout",
     "output_type": "stream",
     "text": [
      "P T "
     ]
    }
   ],
   "source": [
    "#function to prin the upprcase charectertics\n",
    "def printUpper(x):\n",
    "    for i in range(len(x)):\n",
    "        if ord(x[i])>=65 and ord(x[i])<=90:\n",
    "            print(x[i],end=\" \")\n",
    "    return\n",
    "printUpper(\"PyThon\")"
   ]
  },
  {
   "cell_type": "code",
   "execution_count": 184,
   "metadata": {},
   "outputs": [
    {
     "data": {
      "text/plain": [
       "65"
      ]
     },
     "execution_count": 184,
     "metadata": {},
     "output_type": "execute_result"
    }
   ],
   "source": [
    "ord('A') # It gives"
   ]
  },
  {
   "cell_type": "code",
   "execution_count": 187,
   "metadata": {},
   "outputs": [
    {
     "data": {
      "text/plain": [
       "'Same count'"
      ]
     },
     "execution_count": 187,
     "metadata": {},
     "output_type": "execute_result"
    }
   ],
   "source": [
    "# Funcion to print :Python\" if the count of \n",
    "#Upper and lower case is same\n",
    "# Print \"Programmming\" if not same\n",
    "#Example:PyThOn -- 3 P T O(Upper case) --SameCount\n",
    " #                  3 y h n(Lower case)\n",
    "# PyThOn -- P H(2)\n",
    "#        --y t o n (4) - Programming\n",
    "def findCount(str):\n",
    "    cntUpper=0\n",
    "    cntLower=0\n",
    "    for x in range(len(str)):\n",
    "        if ord(str[x])>=65 and ord(str[x])<=90:\n",
    "            cntUpper=cntUpper+1\n",
    "        elif ord(str[x])>=97 and ord(str[x])<=122:\n",
    "            cntLower=cntLower+1\n",
    "    if cntUpper == cntLower:\n",
    "        return\"Same count\"\n",
    "    else:\n",
    "        return \"Programming\"\n",
    "    return\n",
    "findCount('PyThOn') #Samecount\n",
    "findCount('PyThOn') #Programming"
   ]
  },
  {
   "cell_type": "code",
   "execution_count": 203,
   "metadata": {},
   "outputs": [
    {
     "name": "stdout",
     "output_type": "stream",
     "text": [
      "1 8 8 9 "
     ]
    }
   ],
   "source": [
    "# Extract diits from give string\n",
    "#Example:\n",
    "#Input:Appli1cat8ion89\n",
    "#Output: 1 8 8 9\n",
    "def extractDigits(str):\n",
    "    for x in range(len(str)):\n",
    "        if ord(str[x])>=48 and ord(str[x])<=57:\n",
    "            print(str[x],end=\" \")\n",
    "    return\n",
    "extractDigits(\"Appli1cat8ion89\")# 1 8 8 9"
   ]
  },
  {
   "cell_type": "code",
   "execution_count": 253,
   "metadata": {},
   "outputs": [
    {
     "data": {
      "text/plain": [
       "26"
      ]
     },
     "execution_count": 253,
     "metadata": {},
     "output_type": "execute_result"
    }
   ],
   "source": [
    "#Function to rturn the sum of digits in a given sting\n",
    "#Example:\n",
    "#Input:Appli1cat8ion89\n",
    "#Output:26(1+8+8+9)\n",
    "def sumofdigits(x):\n",
    "    sum=0\n",
    "    for i in range(len(x)):\n",
    "        if ord(x[i])>=48 and ord(x[i])<=57:\n",
    "            sum=sum+(ord(x[i])-48)\n",
    "            \n",
    "    return sum\n",
    "sumofdigits('Appli1cat8ion89')"
   ]
  },
  {
   "cell_type": "code",
   "execution_count": 254,
   "metadata": {},
   "outputs": [
    {
     "data": {
      "text/plain": [
       "16"
      ]
     },
     "execution_count": 254,
     "metadata": {},
     "output_type": "execute_result"
    }
   ],
   "source": [
    "def sumofevendigits(x):\n",
    "    sum=0\n",
    "    for i in range(len(x)):\n",
    "        if ord(x[i])>=48 and ord(x[i])<=57:\n",
    "            if(ord(x[i])-48)%2==0:\n",
    "                sum=sum+(ord(x[i])-48)\n",
    "    return sum\n",
    "sumofevendigits('Appli1cat8ion89')"
   ]
  },
  {
   "cell_type": "code",
   "execution_count": null,
   "metadata": {},
   "outputs": [],
   "source": [
    "#Funcion to print the specific Word in Upper Case \n",
    "#Example:\n",
    "#Input:Python made Easy\n",
    "#Output:MADE\n",
    "#Input:Learn Python Programming\n",
    "#Output:PYTHON\n",
    "def "
   ]
  }
 ],
 "metadata": {
  "kernelspec": {
   "display_name": "Python 3",
   "language": "python",
   "name": "python3"
  },
  "language_info": {
   "codemirror_mode": {
    "name": "ipython",
    "version": 3
   },
   "file_extension": ".py",
   "mimetype": "text/x-python",
   "name": "python",
   "nbconvert_exporter": "python",
   "pygments_lexer": "ipython3",
   "version": "3.7.3"
  }
 },
 "nbformat": 4,
 "nbformat_minor": 2
}
