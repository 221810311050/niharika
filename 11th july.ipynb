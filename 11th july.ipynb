{
 "cells": [
  {
   "cell_type": "code",
   "execution_count": 4,
   "metadata": {},
   "outputs": [
    {
     "name": "stdout",
     "output_type": "stream",
     "text": [
      "file is created and date has written\n"
     ]
    }
   ],
   "source": [
    "#function to create a fil and write to file\n",
    "def createFile(filename):\n",
    "    f = open(filename,'w')\n",
    "    for i in range(10):\n",
    "        f.write('this is%d line'%i)\n",
    "    print(\"file is created and date has written\")\n",
    "    return\n",
    "createFile('file1.text')\n",
    "    \n"
   ]
  },
  {
   "cell_type": "code",
   "execution_count": 5,
   "metadata": {},
   "outputs": [
    {
     "name": "stdout",
     "output_type": "stream",
     "text": [
      " Volume in drive C has no label.\n",
      " Volume Serial Number is D6E4-4C5A\n",
      "\n",
      " Directory of C:\\Users\\sys65\\Desktop\n",
      "\n",
      "11-07-2019  09:35    <DIR>          .\n",
      "11-07-2019  09:35    <DIR>          ..\n",
      "11-07-2019  09:26    <DIR>          .ipynb_checkpoints\n",
      "05-07-2019  14:49        11,786,103 [Android]_THOPTV_v10.apk\n",
      "06-07-2019  12:51             1,303 day 6.ipynb\n",
      "11-07-2019  09:35               130 file1.text\n",
      "19-06-2019  15:13    <DIR>          gitam-june-2019\n",
      "15-06-2019  13:47             2,039 Jupyter Notebook.lnk\n",
      "02-07-2019  09:44             6,641 kkkkkkkkkkk.jpg\n",
      "06-07-2019  17:10             3,035 NATA_Online.lnk\n",
      "11-07-2019  09:33               826 niharika.ipynb\n",
      "06-07-2019  12:51             2,317 Person 1 - Chrome.lnk\n",
      "06-07-2019  10:50             1,248 Untitled.ipynb\n",
      "08-07-2019  14:40             1,606 Untitled1.ipynb\n",
      "06-07-2019  12:00               731 Untitled2.ipynb\n",
      "08-07-2019  13:01               683 Untitled3.ipynb\n",
      "10-07-2019  12:21             7,253 Untitled4.ipynb\n",
      "11-07-2019  09:26                72 Untitled5.ipynb\n",
      "              14 File(s)     11,813,987 bytes\n",
      "               4 Dir(s)  89,416,916,992 bytes free\n"
     ]
    }
   ],
   "source": [
    "ls\n"
   ]
  },
  {
   "cell_type": "code",
   "execution_count": 10,
   "metadata": {},
   "outputs": [
    {
     "name": "stdout",
     "output_type": "stream",
     "text": [
      "file is created and data has written\n"
     ]
    }
   ],
   "source": [
    "def createFile(filename):\n",
    "    f = open(filename,'w')\n",
    "    f.write('testing...\\n')\n",
    "    print(\"file is created and data has written\")\n",
    "    return\n",
    "createFile('file1.text')"
   ]
  },
  {
   "cell_type": "code",
   "execution_count": 11,
   "metadata": {},
   "outputs": [
    {
     "name": "stdout",
     "output_type": "stream",
     "text": [
      " Volume in drive C has no label.\n",
      " Volume Serial Number is D6E4-4C5A\n",
      "\n",
      " Directory of C:\\Users\\sys65\\Desktop\n",
      "\n",
      "11-07-2019  09:58    <DIR>          .\n",
      "11-07-2019  09:58    <DIR>          ..\n",
      "11-07-2019  09:26    <DIR>          .ipynb_checkpoints\n",
      "05-07-2019  14:49        11,786,103 [Android]_THOPTV_v10.apk\n",
      "06-07-2019  12:51             1,303 day 6.ipynb\n",
      "11-07-2019  09:52                12 file1.text\n",
      "19-06-2019  15:13    <DIR>          gitam-june-2019\n",
      "15-06-2019  13:47             2,039 Jupyter Notebook.lnk\n",
      "02-07-2019  09:44             6,641 kkkkkkkkkkk.jpg\n",
      "06-07-2019  17:10             3,035 NATA_Online.lnk\n",
      "11-07-2019  09:58             3,232 niharika.ipynb\n",
      "06-07-2019  12:51             2,317 Person 1 - Chrome.lnk\n",
      "06-07-2019  10:50             1,248 Untitled.ipynb\n",
      "08-07-2019  14:40             1,606 Untitled1.ipynb\n",
      "06-07-2019  12:00               731 Untitled2.ipynb\n",
      "08-07-2019  13:01               683 Untitled3.ipynb\n",
      "10-07-2019  12:21             7,253 Untitled4.ipynb\n",
      "11-07-2019  09:26                72 Untitled5.ipynb\n",
      "              14 File(s)     11,816,275 bytes\n",
      "               4 Dir(s)  89,414,402,048 bytes free\n"
     ]
    }
   ],
   "source": [
    "ls\n"
   ]
  },
  {
   "cell_type": "code",
   "execution_count": 2,
   "metadata": {},
   "outputs": [
    {
     "name": "stdout",
     "output_type": "stream",
     "text": [
      "file is created and successfully data written\n"
     ]
    }
   ],
   "source": [
    "# function to create a file and write to the file\n",
    "def CreateFile(filename):\n",
    "   f = open(filename,'a')\n",
    "   for i in range(10):\n",
    "       f.write('This is %d line\\n' % i)\n",
    "   print(\"file is created and successfully data written\")\n",
    "   return\n",
    "CreateFile('file2.txt')"
   ]
  },
  {
   "cell_type": "code",
   "execution_count": 13,
   "metadata": {},
   "outputs": [
    {
     "name": "stdout",
     "output_type": "stream",
     "text": [
      "file is created and data has written\n"
     ]
    }
   ],
   "source": [
    "def appendData(filename):\n",
    "    f = open(filename,'a')\n",
    "    f.write(\"new line1 \\n\")\n",
    "    f.write(\"new line2 \\n\")\n",
    "    print(\"file is created and data has written\")\n",
    "    return\n",
    "appendData('file2.text')\n",
    "    "
   ]
  },
  {
   "cell_type": "code",
   "execution_count": 3,
   "metadata": {},
   "outputs": [
    {
     "name": "stdout",
     "output_type": "stream",
     "text": [
      "This is 0 line\n",
      "This is 1 line\n",
      "This is 2 line\n",
      "This is 3 line\n",
      "This is 4 line\n",
      "This is 5 line\n",
      "This is 6 line\n",
      "This is 7 line\n",
      "This is 8 line\n",
      "This is 9 line\n",
      "\n"
     ]
    }
   ],
   "source": [
    "# function to create a file and write to the file\n",
    "def readFileData(filename):\n",
    "   f = open(filename,'r')\n",
    "   if f.mode == 'r':\n",
    "       x =f.read()\n",
    "       print(x)\n",
    "   f.close()\n",
    "   return\n",
    "readFileData('file2.txt')\n"
   ]
  },
  {
   "cell_type": "code",
   "execution_count": 5,
   "metadata": {},
   "outputs": [
    {
     "name": "stdout",
     "output_type": "stream",
     "text": [
      "enter the file namedata.txt\n",
      "enter the mode of the filer\n",
      "data to the file\n"
     ]
    }
   ],
   "source": [
    "#function to read the file\n",
    "def fileOperations(filename,mode):\n",
    "    with open(filename,mode) as f:\n",
    "        if f.mode =='r':\n",
    "            data =f.read()\n",
    "            print(data)\n",
    "        elif f.mode == 'a':\n",
    "            f.write('data to the file')\n",
    "            print('the data successfully written')\n",
    "    f.close()\n",
    "    return\n",
    "filename = input('enter the file name')\n",
    "mode= input('enter the mode of the file')\n",
    "fileOperations(filename,mode)\n"
   ]
  },
  {
   "cell_type": "code",
   "execution_count": 4,
   "metadata": {},
   "outputs": [
    {
     "name": "stdout",
     "output_type": "stream",
     "text": [
      "enter the filename: file2.txt\n",
      "enter the word: This\n"
     ]
    },
    {
     "data": {
      "text/plain": [
       "10"
      ]
     },
     "execution_count": 4,
     "metadata": {},
     "output_type": "execute_result"
    }
   ],
   "source": [
    "#data analysis\n",
    "def wordCount(filename,word):\n",
    "    with open(filename,'r') as f:\n",
    "        if f.mode == 'r':\n",
    "            x = f.read()\n",
    "            li = x.split()\n",
    "    cnt = li.count(word)\n",
    "    return cnt\n",
    "filename = input('enter the filename: ')\n",
    "word = input('enter the word: ')\n",
    "wordCount(filename,word)"
   ]
  },
  {
   "cell_type": "code",
   "execution_count": 1,
   "metadata": {},
   "outputs": [
    {
     "name": "stdout",
     "output_type": "stream",
     "text": [
      " Volume in drive C has no label.\n",
      " Volume Serial Number is D6E4-4C5A\n",
      "\n",
      " Directory of C:\\Users\\sys65\\Desktop\n",
      "\n",
      "11-07-2019  12:31    <DIR>          .\n",
      "11-07-2019  12:31    <DIR>          ..\n",
      "11-07-2019  09:26    <DIR>          .ipynb_checkpoints\n",
      "05-07-2019  14:49        11,786,103 [Android]_THOPTV_v10.apk\n",
      "11-07-2019  10:35                16 data.txt\n",
      "06-07-2019  12:51             1,303 day 6.ipynb\n",
      "11-07-2019  09:52                12 file1.text\n",
      "11-07-2019  10:05                24 file2.text\n",
      "11-07-2019  10:49               160 file2.txt\n",
      "19-06-2019  15:13    <DIR>          gitam-june-2019\n",
      "15-06-2019  13:47             2,039 Jupyter Notebook.lnk\n",
      "02-07-2019  09:44             6,641 kkkkkkkkkkk.jpg\n",
      "06-07-2019  17:10             3,035 NATA_Online.lnk\n",
      "11-07-2019  12:31             8,438 niharika.ipynb\n",
      "06-07-2019  12:51             2,317 Person 1 - Chrome.lnk\n",
      "06-07-2019  10:50             1,248 Untitled.ipynb\n",
      "11-07-2019  12:13             2,051 Untitled1.ipynb\n",
      "06-07-2019  12:00               731 Untitled2.ipynb\n",
      "08-07-2019  13:01               683 Untitled3.ipynb\n",
      "10-07-2019  12:21             7,253 Untitled4.ipynb\n",
      "11-07-2019  09:26                72 Untitled5.ipynb\n",
      "              17 File(s)     11,822,126 bytes\n",
      "               4 Dir(s)  89,377,079,296 bytes free\n"
     ]
    }
   ],
   "source": [
    "ls\n"
   ]
  },
  {
   "cell_type": "code",
   "execution_count": 9,
   "metadata": {},
   "outputs": [
    {
     "ename": "FileNotFoundError",
     "evalue": "[WinError 3] The system cannot find the path specified: 'Git/'",
     "output_type": "error",
     "traceback": [
      "\u001b[1;31m---------------------------------------------------------------------------\u001b[0m",
      "\u001b[1;31mFileNotFoundError\u001b[0m                         Traceback (most recent call last)",
      "\u001b[1;32m<ipython-input-9-c0b7b42cf694>\u001b[0m in \u001b[0;36m<module>\u001b[1;34m\u001b[0m\n\u001b[0;32m      1\u001b[0m \u001b[1;32mimport\u001b[0m \u001b[0mos\u001b[0m\u001b[1;33m\u001b[0m\u001b[1;33m\u001b[0m\u001b[0m\n\u001b[1;32m----> 2\u001b[1;33m \u001b[0mos\u001b[0m\u001b[1;33m.\u001b[0m\u001b[0mlistdir\u001b[0m\u001b[1;33m(\u001b[0m\u001b[1;34m'Git/'\u001b[0m\u001b[1;33m)\u001b[0m\u001b[1;33m\u001b[0m\u001b[1;33m\u001b[0m\u001b[0m\n\u001b[0m",
      "\u001b[1;31mFileNotFoundError\u001b[0m: [WinError 3] The system cannot find the path specified: 'Git/'"
     ]
    }
   ],
   "source": [
    "import os\n",
    "os.listdir('Git/')"
   ]
  },
  {
   "cell_type": "code",
   "execution_count": 10,
   "metadata": {},
   "outputs": [
    {
     "name": "stdout",
     "output_type": "stream",
     "text": [
      "C:\\Users\\sys65\\Desktop\n"
     ]
    }
   ],
   "source": [
    "cd . ."
   ]
  },
  {
   "cell_type": "code",
   "execution_count": 11,
   "metadata": {},
   "outputs": [
    {
     "name": "stdout",
     "output_type": "stream",
     "text": [
      " Volume in drive C has no label.\n",
      " Volume Serial Number is D6E4-4C5A\n",
      "\n",
      " Directory of C:\\Users\\sys65\\Desktop\n",
      "\n",
      "11-07-2019  12:39    <DIR>          .\n",
      "11-07-2019  12:39    <DIR>          ..\n",
      "11-07-2019  09:26    <DIR>          .ipynb_checkpoints\n",
      "05-07-2019  14:49        11,786,103 [Android]_THOPTV_v10.apk\n",
      "11-07-2019  10:35                16 data.txt\n",
      "06-07-2019  12:51             1,303 day 6.ipynb\n",
      "11-07-2019  09:52                12 file1.text\n",
      "11-07-2019  10:05                24 file2.text\n",
      "11-07-2019  10:49               160 file2.txt\n",
      "19-06-2019  15:13    <DIR>          gitam-june-2019\n",
      "15-06-2019  13:47             2,039 Jupyter Notebook.lnk\n",
      "02-07-2019  09:44             6,641 kkkkkkkkkkk.jpg\n",
      "06-07-2019  17:10             3,035 NATA_Online.lnk\n",
      "11-07-2019  12:39            11,624 niharika.ipynb\n",
      "06-07-2019  12:51             2,317 Person 1 - Chrome.lnk\n",
      "06-07-2019  10:50             1,248 Untitled.ipynb\n",
      "11-07-2019  12:13             2,051 Untitled1.ipynb\n",
      "06-07-2019  12:00               731 Untitled2.ipynb\n",
      "08-07-2019  13:01               683 Untitled3.ipynb\n",
      "10-07-2019  12:21             7,253 Untitled4.ipynb\n",
      "11-07-2019  09:26                72 Untitled5.ipynb\n",
      "              17 File(s)     11,825,312 bytes\n",
      "               4 Dir(s)  89,376,964,608 bytes free\n"
     ]
    }
   ],
   "source": [
    "ls\n"
   ]
  },
  {
   "cell_type": "code",
   "execution_count": null,
   "metadata": {},
   "outputs": [],
   "source": []
  }
 ],
 "metadata": {
  "kernelspec": {
   "display_name": "Python 3",
   "language": "python",
   "name": "python3"
  },
  "language_info": {
   "codemirror_mode": {
    "name": "ipython",
    "version": 3
   },
   "file_extension": ".py",
   "mimetype": "text/x-python",
   "name": "python",
   "nbconvert_exporter": "python",
   "pygments_lexer": "ipython3",
   "version": "3.7.3"
  }
 },
 "nbformat": 4,
 "nbformat_minor": 2
}
