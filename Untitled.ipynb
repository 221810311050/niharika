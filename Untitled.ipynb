{
 "cells": [
  {
   "cell_type": "markdown",
   "metadata": {},
   "source": [
    "### Tuples\n",
    "- t1 parenthesis() li squae brackets[]\n",
    "- Difference betweem list and tuples\n",
    "   - lists are mutable-can be changed/modified\n",
    " *  uesd to access and modify\n",
    "- Tuples ae immutable-cannot be changed\n",
    " * used to access data only"
   ]
  },
  {
   "cell_type": "code",
   "execution_count": 3,
   "metadata": {},
   "outputs": [
    {
     "data": {
      "text/plain": [
       "(2, 3, 4, 5)"
      ]
     },
     "execution_count": 3,
     "metadata": {},
     "output_type": "execute_result"
    }
   ],
   "source": [
    "t1=(1,2,3,4,5,6)\n",
    "t1\n",
    "type(t1)\n",
    "\n",
    "t1[1:5]\n"
   ]
  },
  {
   "cell_type": "markdown",
   "metadata": {},
   "source": [
    "### Data Structures\n",
    "* dictionaries"
   ]
  },
  {
   "cell_type": "markdown",
   "metadata": {},
   "source": [
    "### Dictionaies\n",
    "* It works on the concept of Set unique Data\n",
    "* Keys,Values is the unique identifier o the value\n",
    "* Each key is sepaate from its value with colon(:)\n",
    "* Each key and value are separated by comma(,)\n",
    "* Dictionaries enclosed by Curly braces({})"
   ]
  },
  {
   "cell_type": "code",
   "execution_count": 6,
   "metadata": {},
   "outputs": [
    {
     "name": "stdout",
     "output_type": "stream",
     "text": [
      "{'Name': 'Gitam', 'Emailid': 'swapnikanayana@gmail.com', 'Address': 'Hyderabad'}\n"
     ]
    }
   ],
   "source": [
    "d1={\"Name\":\"Gitam\",\"Emailid\":\"swapnikanayana@gmail.com\",\"Address\":\"Hyderabad\"}\n",
    "print(d1)\n"
   ]
  },
  {
   "cell_type": "markdown",
   "metadata": {},
   "source": [
    "d1[\"Name\"]\n",
    "\n",
    "d1[\"Emailid\"]=\"Gitam-Python@gmail.com\" #Update the data\n",
    "\n",
    "d1['Emailid']\n",
    "\n",
    "del d1['Emailid'] #Delete a specific key value\n",
    "\n",
    "1 #el d1 will delete th entire \n",
    "\n",
    "d1.values() # returns the values\n",
    "\n",
    "1.items() # the list of tuples  of  keys and values"
   ]
  },
  {
   "cell_type": "markdown",
   "metadata": {},
   "source": [
    "### Contact Application\n",
    "- Add Contact\n",
    "- Search a contact\n",
    "- List all contacts\n",
    "   - name1:phone1\n",
    "   - name2:phone2\n",
    "- Modify a contact\n",
    "- Remove a contact\n",
    "- Import a contact"
   ]
  },
  {
   "cell_type": "code",
   "execution_count": 12,
   "metadata": {},
   "outputs": [
    {
     "name": "stdout",
     "output_type": "stream",
     "text": [
      "Contact is details are added\n",
      "Contact is details are added\n",
      "Contacts details already exists\n"
     ]
    }
   ],
   "source": [
    "# Add contacts\n",
    "contacts={} #creating a dict object\n",
    "def addcontact(name,phone):\n",
    "    if name not in contacts: #condition to check phone\n",
    "        contacts[name]=phone\n",
    "        print(\"Contact is details are added\")\n",
    "    else:\n",
    "        print(\"Contacts details already exists\")\n",
    "    return\n",
    "addcontact('Swapnika','7680909003')\n",
    "addcontact('Usha','7680022882')\n",
    "addcontact('Swapnika','7680909003')\n"
   ]
  },
  {
   "cell_type": "code",
   "execution_count": 14,
   "metadata": {},
   "outputs": [
    {
     "data": {
      "text/plain": [
       "{'Swapnika': '7680909003', 'Usha': '7680022882'}"
      ]
     },
     "execution_count": 14,
     "metadata": {},
     "output_type": "execute_result"
    }
   ],
   "source": [
    "contacts"
   ]
  },
  {
   "cell_type": "code",
   "execution_count": 10,
   "metadata": {},
   "outputs": [
    {
     "name": "stdout",
     "output_type": "stream",
     "text": [
      "Swapnika : 7680909003\n",
      "Nayana does not exist\n",
      "Usha : 7680022882\n",
      "2 Contacts added succesfully\n"
     ]
    }
   ],
   "source": [
    "#search for contact details\n",
    "def searchcontactname(name):\n",
    "    if name in contacts:\n",
    "        print(name,':' ,contacts[name])\n",
    "    else:\n",
    "        print(\"%s does not exist\" %name)\n",
    "    return\n",
    "searchcontactname('Swapnika')\n",
    "searchcontactname('Nayana')\n",
    "searchcontactname('Usha')\n",
    "\n",
    "def importcontact(newcontacts):\n",
    "    contacts.update(newcontacts)\n",
    "    print(len(newcontacts.keys()),'Contacts added succesfully')\n",
    "    return\n",
    "newcontacts={'Vishistha':9848033228,'Sashi':7896521478}\n",
    "importcontact(newcontacts)\n"
   ]
  },
  {
   "cell_type": "code",
   "execution_count": 11,
   "metadata": {},
   "outputs": [
    {
     "name": "stdout",
     "output_type": "stream",
     "text": [
      "Sashi Deleted successfully\n"
     ]
    }
   ],
   "source": [
    "#delete a contact\n",
    "def deletecontact(name):\n",
    "    if name in contacts:\n",
    "        del contacts[name]\n",
    "        print(name,\"Deleted successfully\")\n",
    "    else:\n",
    "        print(name,\"not exists\")\n",
    "    return\n",
    "deletecontact('Sashi')\n"
   ]
  },
  {
   "cell_type": "code",
   "execution_count": 15,
   "metadata": {},
   "outputs": [
    {
     "name": "stdout",
     "output_type": "stream",
     "text": [
      "Sashi not exists\n",
      "Swapnika Updated successfully\n"
     ]
    }
   ],
   "source": [
    "#Update contacts\n",
    "def deletecontact(name,phone):\n",
    "    if name in contacts:\n",
    "        contacts[name]=phone\n",
    "        print(name,\"Updated successfully\")\n",
    "    else:\n",
    "        print(name,\"not exists\")\n",
    "    return\n",
    "deletecontact('Sashi',758794621)\n",
    "deletecontact('Swapnika',78962541)\n"
   ]
  },
  {
   "cell_type": "markdown",
   "metadata": {},
   "source": [
    "### packages and modules \n",
    "\n",
    "**Packages:**\n",
    "         - A collection of modules(single python file.py)and Subpackages \n",
    "**Modules**\n",
    "       - Asingle python file containing set function\n",
    "\n",
    "### packages-->Subpackages-->Modules-->Functions-->Statements"
   ]
  },
  {
   "cell_type": "code",
   "execution_count": 1,
   "metadata": {},
   "outputs": [
    {
     "data": {
      "text/plain": [
       "123"
      ]
     },
     "execution_count": 1,
     "metadata": {},
     "output_type": "execute_result"
    }
   ],
   "source": [
    "import math\n",
    "math.floor(123.45)"
   ]
  },
  {
   "cell_type": "code",
   "execution_count": 2,
   "metadata": {},
   "outputs": [
    {
     "data": {
      "text/plain": [
       "120"
      ]
     },
     "execution_count": 2,
     "metadata": {},
     "output_type": "execute_result"
    }
   ],
   "source": [
    "from math import factorial as fact\n",
    "fact(5)"
   ]
  },
  {
   "cell_type": "code",
   "execution_count": 3,
   "metadata": {},
   "outputs": [
    {
     "data": {
      "text/plain": [
       "5"
      ]
     },
     "execution_count": 3,
     "metadata": {},
     "output_type": "execute_result"
    }
   ],
   "source": [
    "from math import gcd as gcd\n",
    "gcd(10,15)"
   ]
  },
  {
   "cell_type": "code",
   "execution_count": 11,
   "metadata": {},
   "outputs": [
    {
     "name": "stdout",
     "output_type": "stream",
     "text": [
      "79 50 78 73 84 17 84 22 5 12 "
     ]
    }
   ],
   "source": [
    "import random  \n",
    "def randomnumbers(n,lb,ub):\n",
    "    for i in range(0,n):\n",
    "        print(random.randint(lb,ub),end=\" \")\n",
    "    return\n",
    "randomnumbers(10,0,100)"
   ]
  },
  {
   "cell_type": "code",
   "execution_count": 15,
   "metadata": {},
   "outputs": [
    {
     "name": "stdout",
     "output_type": "stream",
     "text": [
      "436 273 125 495 152 358 121 484 310 385 405 114 55 469 265 187 199 424 361 242 "
     ]
    },
    {
     "data": {
      "text/plain": [
       "'Try again'"
      ]
     },
     "execution_count": 15,
     "metadata": {},
     "output_type": "execute_result"
    }
   ],
   "source": [
    "#Create a simple random game\n",
    "#Generate 20 random numbers 0 to 500\n",
    "#Input:Number\n",
    "#Output:Congrats!!\n",
    "#        Try once again\n",
    "import random\n",
    "def generatenumber(n,lb,ub):\n",
    "    \n",
    "    for i in range(0,n):\n",
    "        print(random.randint(lb,ub),end=\" \")\n",
    "    return \n",
    "generatenumber(20,0,500)\n",
    "def check(n):\n",
    "    li=[]\n",
    "    if n in li:\n",
    "        return \"Congrats!!\"\n",
    "    else:\n",
    "        return \"Try again\"\n",
    "    return\n",
    "check(188)\n"
   ]
  },
  {
   "cell_type": "code",
   "execution_count": null,
   "metadata": {},
   "outputs": [],
   "source": []
  }
 ],
 "metadata": {
  "kernelspec": {
   "display_name": "Python 3",
   "language": "python",
   "name": "python3"
  },
  "language_info": {
   "codemirror_mode": {
    "name": "ipython",
    "version": 3
   },
   "file_extension": ".py",
   "mimetype": "text/x-python",
   "name": "python",
   "nbconvert_exporter": "python",
   "pygments_lexer": "ipython3",
   "version": "3.7.3"
  }
 },
 "nbformat": 4,
 "nbformat_minor": 2
}
